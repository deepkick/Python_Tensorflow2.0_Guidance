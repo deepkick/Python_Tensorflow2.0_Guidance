{
 "cells": [
  {
   "cell_type": "markdown",
   "id": "aeee8e37",
   "metadata": {},
   "source": [
    "# TensorBoardでの画像データの表示\n",
    "\n",
    "https://www.tensorflow.org/tensorboard/image_summaries?hl=ja"
   ]
  },
  {
   "cell_type": "code",
   "execution_count": null,
   "id": "3f7c1cec",
   "metadata": {},
   "outputs": [],
   "source": []
  }
 ],
 "metadata": {
  "kernelspec": {
   "display_name": "Python 3 (ipykernel)",
   "language": "python",
   "name": "python3"
  },
  "language_info": {
   "codemirror_mode": {
    "name": "ipython",
    "version": 3
   },
   "file_extension": ".py",
   "mimetype": "text/x-python",
   "name": "python",
   "nbconvert_exporter": "python",
   "pygments_lexer": "ipython3",
   "version": "3.7.11"
  }
 },
 "nbformat": 4,
 "nbformat_minor": 5
}
