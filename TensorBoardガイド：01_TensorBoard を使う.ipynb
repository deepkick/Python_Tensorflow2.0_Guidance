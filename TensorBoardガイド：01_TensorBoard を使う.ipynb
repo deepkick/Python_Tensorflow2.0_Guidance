{
 "cells": [
  {
   "cell_type": "markdown",
   "id": "1ce92a69",
   "metadata": {},
   "source": [
    "# ノートブックで TensorBoard を使用する\n",
    "\n",
    "https://www.tensorflow.org/tensorboard/tensorboard_in_notebooks?hl=ja\n",
    "\n",
    "https://www.tensorflow.org/tensorboard/get_started?hl=ja"
   ]
  },
  {
   "cell_type": "code",
   "execution_count": 1,
   "id": "9e86c6ed",
   "metadata": {},
   "outputs": [],
   "source": [
    "import tensorflow as tf\n",
    "import datetime, os"
   ]
  },
  {
   "cell_type": "markdown",
   "id": "6b95a4c9",
   "metadata": {},
   "source": [
    "FashionMNIST データセットをダウンロードし、スケーリングします。"
   ]
  },
  {
   "cell_type": "code",
   "execution_count": 2,
   "id": "78540478",
   "metadata": {},
   "outputs": [
    {
     "name": "stdout",
     "output_type": "stream",
     "text": [
      "Downloading data from https://storage.googleapis.com/tensorflow/tf-keras-datasets/train-labels-idx1-ubyte.gz\n",
      "32768/29515 [=================================] - 0s 1us/step\n",
      "40960/29515 [=========================================] - 0s 1us/step\n",
      "Downloading data from https://storage.googleapis.com/tensorflow/tf-keras-datasets/train-images-idx3-ubyte.gz\n",
      "26427392/26421880 [==============================] - 2s 0us/step\n",
      "26435584/26421880 [==============================] - 2s 0us/step\n",
      "Downloading data from https://storage.googleapis.com/tensorflow/tf-keras-datasets/t10k-labels-idx1-ubyte.gz\n",
      "16384/5148 [===============================================================================================] - 0s 0us/step\n",
      "Downloading data from https://storage.googleapis.com/tensorflow/tf-keras-datasets/t10k-images-idx3-ubyte.gz\n",
      "4423680/4422102 [==============================] - 0s 0us/step\n",
      "4431872/4422102 [==============================] - 0s 0us/step\n"
     ]
    }
   ],
   "source": [
    "fashion_mnist = tf.keras.datasets.fashion_mnist\n",
    "\n",
    "(x_train, y_train),(x_test, y_test) = fashion_mnist.load_data()\n",
    "x_train, x_test = x_train / 255.0, x_test / 255.0"
   ]
  },
  {
   "cell_type": "code",
   "execution_count": 3,
   "id": "58a9b8f8",
   "metadata": {},
   "outputs": [
    {
     "name": "stdout",
     "output_type": "stream",
     "text": [
      "x_train.shape =  (60000, 28, 28)\n",
      "y_train.shape =  (60000,)\n",
      "x_test.shape =  (10000, 28, 28)\n",
      "y_test.shape =  (10000,)\n"
     ]
    }
   ],
   "source": [
    "print('x_train.shape = ', x_train.shape)\n",
    "print('y_train.shape = ', y_train.shape)\n",
    "print('x_test.shape = ', x_test.shape)\n",
    "print('y_test.shape = ', y_test.shape)\n"
   ]
  },
  {
   "cell_type": "markdown",
   "id": "e142df08",
   "metadata": {},
   "source": [
    "非常に単純なモデルを作成します。"
   ]
  },
  {
   "cell_type": "code",
   "execution_count": 5,
   "id": "220bbc2a",
   "metadata": {},
   "outputs": [],
   "source": [
    "def create_model():\n",
    "    return tf.keras.models.Sequential([\n",
    "        tf.keras.layers.Flatten(input_shape=(28, 28)),\n",
    "        tf.keras.layers.Dense(512, activation='relu'),\n",
    "        tf.keras.layers.Dropout(0.2),\n",
    "        tf.keras.layers.Dense(10, activation='softmax')\n",
    "  ])"
   ]
  },
  {
   "cell_type": "markdown",
   "id": "dad87d9c",
   "metadata": {},
   "source": [
    "Keras と TensorBoard コールバックを使ってモデルをトレーニングします。"
   ]
  },
  {
   "cell_type": "code",
   "execution_count": 7,
   "id": "d1ef63fd",
   "metadata": {},
   "outputs": [
    {
     "name": "stderr",
     "output_type": "stream",
     "text": [
      "2021-12-30 10:55:55.229136: I tensorflow/core/platform/cpu_feature_guard.cc:151] This TensorFlow binary is optimized with oneAPI Deep Neural Network Library (oneDNN) to use the following CPU instructions in performance-critical operations:  AVX2 FMA\n",
      "To enable them in other operations, rebuild TensorFlow with the appropriate compiler flags.\n"
     ]
    },
    {
     "name": "stdout",
     "output_type": "stream",
     "text": [
      "Epoch 1/5\n",
      "1875/1875 [==============================] - 5s 3ms/step - loss: 0.4975 - accuracy: 0.8215 - val_loss: 0.4483 - val_accuracy: 0.8352\n",
      "Epoch 2/5\n",
      "1875/1875 [==============================] - 4s 2ms/step - loss: 0.3845 - accuracy: 0.8597 - val_loss: 0.4009 - val_accuracy: 0.8508\n",
      "Epoch 3/5\n",
      "1875/1875 [==============================] - 4s 2ms/step - loss: 0.3506 - accuracy: 0.8712 - val_loss: 0.3750 - val_accuracy: 0.8594\n",
      "Epoch 4/5\n",
      "1875/1875 [==============================] - 4s 2ms/step - loss: 0.3294 - accuracy: 0.8803 - val_loss: 0.3580 - val_accuracy: 0.8725\n",
      "Epoch 5/5\n",
      "1875/1875 [==============================] - 4s 2ms/step - loss: 0.3156 - accuracy: 0.8823 - val_loss: 0.3590 - val_accuracy: 0.8708\n"
     ]
    }
   ],
   "source": [
    "def train_model():\n",
    "\n",
    "    model = create_model()\n",
    "    model.compile(optimizer='adam',\n",
    "                loss='sparse_categorical_crossentropy',\n",
    "                metrics=['accuracy'])\n",
    "\n",
    "    logdir = os.path.join(\"logs\", datetime.datetime.now().strftime(\"%Y%m%d-%H%M%S\"))\n",
    "    tensorboard_callback = tf.keras.callbacks.TensorBoard(logdir, histogram_freq=1)\n",
    "\n",
    "    model.fit(x=x_train, \n",
    "                y=y_train, \n",
    "                epochs=5, \n",
    "                validation_data=(x_test, y_test), \n",
    "                callbacks=[tensorboard_callback])\n",
    "\n",
    "train_model()"
   ]
  },
  {
   "cell_type": "markdown",
   "id": "f428f173",
   "metadata": {},
   "source": [
    "magics を使って、ノートブック内で TensorBoard を起動します。"
   ]
  },
  {
   "cell_type": "code",
   "execution_count": 22,
   "id": "d5d47ebf",
   "metadata": {},
   "outputs": [
    {
     "name": "stdout",
     "output_type": "stream",
     "text": [
      "The tensorboard extension is already loaded. To reload it, use:\n",
      "  %reload_ext tensorboard\n"
     ]
    }
   ],
   "source": [
    "%load_ext tensorboard"
   ]
  },
  {
   "cell_type": "markdown",
   "id": "a44103fe",
   "metadata": {},
   "source": [
    "```\n",
    "ターミナルからtensorboard 起動\n",
    "\n",
    "cd /Users/kaoru/opt/anaconda3/envs/py37_Kaggle_GreatBarrierReef/lib/python3.7/site-packages/tensorboard\n",
    "\n",
    "python main.py --logdir=/Users/kaoru/Documents/Python_Tensorflow2.0ガイド/logs\n",
    "\n",
    "http://localhost:6006/\n",
    "\n",
    "```"
   ]
  },
  {
   "cell_type": "code",
   "execution_count": 23,
   "id": "e62e7a53",
   "metadata": {},
   "outputs": [],
   "source": [
    "#os.environ['TENSORBOARD_BINARY'] = ' /Users/kaoru/opt/anaconda3/envs/py37_Kaggle_GreatBarrierReef/bin/tensorboard'\n",
    "#os.environ['TENSORBOARD_BINARY']"
   ]
  },
  {
   "cell_type": "code",
   "execution_count": 30,
   "id": "91a29205",
   "metadata": {},
   "outputs": [
    {
     "data": {
      "text/plain": [
       "ERROR: Could not find ' /Users/kaoru/opt/anaconda3/envs/py37_Kaggle_Gr\n",
       "eatBarrierReef/bin/tensorboard' (set by the `TENSORBOARD_BINARY`\n",
       "environment variable). Please ensure that your PATH contains an\n",
       "executable `tensorboard` program, or explicitly specify the path to a\n",
       "TensorBoard binary by setting the `TENSORBOARD_BINARY` environment\n",
       "variable."
      ]
     },
     "metadata": {},
     "output_type": "display_data"
    }
   ],
   "source": [
    "%tensorboard --logdir logs"
   ]
  },
  {
   "cell_type": "code",
   "execution_count": null,
   "id": "0563498c",
   "metadata": {},
   "outputs": [],
   "source": []
  }
 ],
 "metadata": {
  "kernelspec": {
   "display_name": "Python 3 (ipykernel)",
   "language": "python",
   "name": "python3"
  },
  "language_info": {
   "codemirror_mode": {
    "name": "ipython",
    "version": 3
   },
   "file_extension": ".py",
   "mimetype": "text/x-python",
   "name": "python",
   "nbconvert_exporter": "python",
   "pygments_lexer": "ipython3",
   "version": "3.7.11"
  }
 },
 "nbformat": 4,
 "nbformat_minor": 5
}
