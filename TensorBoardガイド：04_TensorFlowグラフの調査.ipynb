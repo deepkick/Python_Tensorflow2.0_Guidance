{
 "cells": [
  {
   "cell_type": "markdown",
   "id": "57959f23",
   "metadata": {},
   "source": [
    "# TensorFlowグラフの調査\n",
    "\n",
    "https://www.tensorflow.org/tensorboard/graphs?hl=ja"
   ]
  },
  {
   "cell_type": "markdown",
   "id": "3ea1ac70",
   "metadata": {},
   "source": [
    "## 概要\n",
    "\n",
    "TensorBoardのグラフダッシュボードには、あなたのTensorFlowモデルを調べるための強力なツールです。モデルの構造の概念グラフをすばやく表示して、意図した設計と一致していることを確認できます。また、opレベルのグラフを表示して、TensorFlowがプログラムをどのように理解しているかを理解することもできます。運用レベルのグラフを調べると、モデルを変更する方法についての洞察が得られます。たとえば、トレーニングの進行が予想よりも遅い場合は、モデルを再設計できます。\n",
    "\n",
    "このチュートリアルでは、グラフ診断データを生成し、TensorBoardのグラフダッシュボードで視覚化する方法の概要を説明します。 Fashion-MNISTデータセットの単純なKerasSequentialモデルを定義およびトレーニングし、モデルグラフをログに記録して調べる方法を学習します。また、新しい機能を使用して作成するためのグラフデータを生成するためにトレースAPIを使用しますtf.function注釈を。"
   ]
  },
  {
   "cell_type": "markdown",
   "id": "4f5d822d",
   "metadata": {},
   "source": [
    "## 設定"
   ]
  },
  {
   "cell_type": "code",
   "execution_count": 1,
   "id": "6ebd5a98",
   "metadata": {},
   "outputs": [],
   "source": [
    "# Load the TensorBoard notebook extension.\n",
    "%load_ext tensorboard"
   ]
  },
  {
   "cell_type": "code",
   "execution_count": 2,
   "id": "dbe6d1af",
   "metadata": {},
   "outputs": [
    {
     "name": "stdout",
     "output_type": "stream",
     "text": [
      "TensorFlow version:  2.7.0\n"
     ]
    }
   ],
   "source": [
    "from datetime import datetime\n",
    "from packaging import version\n",
    "\n",
    "import tensorflow as tf\n",
    "from tensorflow import keras\n",
    "\n",
    "print(\"TensorFlow version: \", tf.__version__)\n",
    "assert version.parse(tf.__version__).release[0] >= 2, \\\n",
    "    \"This notebook requires TensorFlow 2.0 or above.\""
   ]
  },
  {
   "cell_type": "code",
   "execution_count": 3,
   "id": "51fc4c94",
   "metadata": {},
   "outputs": [
    {
     "data": {
      "text/plain": [
       "'2.7.0'"
      ]
     },
     "execution_count": 3,
     "metadata": {},
     "output_type": "execute_result"
    }
   ],
   "source": [
    "import tensorboard\n",
    "tensorboard.__version__"
   ]
  },
  {
   "cell_type": "code",
   "execution_count": 5,
   "id": "2cd3511e",
   "metadata": {},
   "outputs": [],
   "source": [
    "# Clear any logs from previous runs\n",
    "%rm -rf ./logs/"
   ]
  },
  {
   "cell_type": "markdown",
   "id": "0164f665",
   "metadata": {},
   "source": [
    "## Kerasモデルを定義する\n",
    "\n",
    "この例では、分類器は単純な4層のシーケンシャルモデルです。"
   ]
  },
  {
   "cell_type": "code",
   "execution_count": 6,
   "id": "5c473c1f",
   "metadata": {},
   "outputs": [
    {
     "name": "stderr",
     "output_type": "stream",
     "text": [
      "2021-12-30 15:36:22.584587: I tensorflow/core/platform/cpu_feature_guard.cc:151] This TensorFlow binary is optimized with oneAPI Deep Neural Network Library (oneDNN) to use the following CPU instructions in performance-critical operations:  AVX2 FMA\n",
      "To enable them in other operations, rebuild TensorFlow with the appropriate compiler flags.\n"
     ]
    }
   ],
   "source": [
    "# Define the model.\n",
    "model = keras.models.Sequential([\n",
    "    keras.layers.Flatten(input_shape=(28, 28)),\n",
    "    keras.layers.Dense(32, activation='relu'),\n",
    "    keras.layers.Dropout(0.2),\n",
    "    keras.layers.Dense(10, activation='softmax')\n",
    "])\n",
    "\n",
    "model.compile(\n",
    "    optimizer='adam',\n",
    "    loss='sparse_categorical_crossentropy',\n",
    "    metrics=['accuracy'])"
   ]
  },
  {
   "cell_type": "code",
   "execution_count": 7,
   "id": "22ea8d82",
   "metadata": {},
   "outputs": [],
   "source": [
    "(train_images, train_labels), _ = keras.datasets.fashion_mnist.load_data()\n",
    "train_images = train_images / 255.0"
   ]
  },
  {
   "cell_type": "markdown",
   "id": "56abc9ff",
   "metadata": {},
   "source": [
    "## モデルとログデータをトレーニングします\n",
    "\n",
    "トレーニングの前に、定義Keras TensorBoardコールバックをログディレクトリを指定して、。このコールバックをModel.fit（）に渡すことにより、グラフデータがTensorBoardで視覚化するためにログに記録されるようにします。"
   ]
  },
  {
   "cell_type": "code",
   "execution_count": 8,
   "id": "fc36d16a",
   "metadata": {},
   "outputs": [
    {
     "name": "stdout",
     "output_type": "stream",
     "text": [
      "Epoch 1/5\n",
      "938/938 [==============================] - 2s 1ms/step - loss: 0.7029 - accuracy: 0.7587\n",
      "Epoch 2/5\n",
      "938/938 [==============================] - 1s 1ms/step - loss: 0.4901 - accuracy: 0.8284\n",
      "Epoch 3/5\n",
      "938/938 [==============================] - 1s 970us/step - loss: 0.4492 - accuracy: 0.8405\n",
      "Epoch 4/5\n",
      "938/938 [==============================] - 1s 945us/step - loss: 0.4260 - accuracy: 0.8481\n",
      "Epoch 5/5\n",
      "938/938 [==============================] - 1s 963us/step - loss: 0.4085 - accuracy: 0.8543\n"
     ]
    },
    {
     "data": {
      "text/plain": [
       "<keras.callbacks.History at 0x7fdb40397750>"
      ]
     },
     "execution_count": 8,
     "metadata": {},
     "output_type": "execute_result"
    }
   ],
   "source": [
    "# Define the Keras TensorBoard callback.\n",
    "logdir=\"logs/fit/\" + datetime.now().strftime(\"%Y%m%d-%H%M%S\")\n",
    "tensorboard_callback = keras.callbacks.TensorBoard(log_dir=logdir)\n",
    "\n",
    "# Train the model.\n",
    "model.fit(\n",
    "    train_images,\n",
    "    train_labels, \n",
    "    batch_size=64,\n",
    "    epochs=5, \n",
    "    callbacks=[tensorboard_callback])"
   ]
  },
  {
   "cell_type": "markdown",
   "id": "35c600e6",
   "metadata": {},
   "source": [
    "## Opレベルのグラフ\n",
    "\n",
    "TensorBoardを起動し、UIが読み込まれるまで数秒待ちます。上部の[グラフ]をタップして、グラフダッシュボードを選択します。"
   ]
  },
  {
   "cell_type": "code",
   "execution_count": 9,
   "id": "02da5f08",
   "metadata": {},
   "outputs": [],
   "source": [
    "# %tensorboard --logdir logs"
   ]
  },
  {
   "cell_type": "markdown",
   "id": "79bbded9",
   "metadata": {},
   "source": [
    "オプションでTensorBoard.devを使用して、ホストされた共有可能な実験を作成することもできます。"
   ]
  },
  {
   "cell_type": "code",
   "execution_count": 10,
   "id": "da8563d3",
   "metadata": {},
   "outputs": [
    {
     "name": "stdout",
     "output_type": "stream",
     "text": [
      "zsh:1: command not found: tensorboard\r\n"
     ]
    }
   ],
   "source": [
    "!tensorboard dev upload \\\n",
    "  --logdir logs \\\n",
    "  --name \"Sample op-level graph\" \\\n",
    "  --one_shot"
   ]
  },
  {
   "cell_type": "markdown",
   "id": "4aee2bf0",
   "metadata": {},
   "source": [
    "デフォルトでは、TensorBoardはOP-レベルのグラフを表示します。 （左側に、「デフォルト」タグが選択されているのがわかります。）グラフが反転していることに注意してください。データは下から上に流れるため、コードと比較して逆さまになっています。ただし、グラフがKerasモデルの定義と厳密に一致しており、他の計算ノードに余分なエッジがあることがわかります。\n",
    "\n",
    "多くの場合、グラフは非常に大きいため、グラフの視覚化を操作できます。\n",
    "\n",
    "* スクロールは、ズームイン、ズームアウトするには\n",
    "* パンにドラッグ\n",
    "* ダブルクリックする（ノードが他のノードのための容器であってもよい）、ノード拡張をトグル\n",
    "\n",
    "ノードをクリックしてメタデータを表示することもできます。これにより、入力、出力、形状、およびその他の詳細を確認できます。"
   ]
  },
  {
   "cell_type": "markdown",
   "id": "64ea9879",
   "metadata": {},
   "source": [
    "## 概念グラフ\n",
    "\n",
    "実行グラフに加えて、TensorBoardも概念的なグラフを表示します。これは、Kerasモデルのみのビューです。これは、保存されたモデルを再利用していて、その構造を調べたり検証したりする場合に役立つことがあります。\n",
    "\n",
    "概念グラフを表示するには、「keras」タグを選択します。この例では、崩壊したシーケンシャルノードが表示されます。ノードをダブルクリックして、モデルの構造を確認します。"
   ]
  },
  {
   "cell_type": "markdown",
   "id": "e2d42a34",
   "metadata": {},
   "source": [
    "## tf.functionsのグラフ\n",
    "\n",
    "これまでの例では、Kerasモデルのグラフについて説明してきました。グラフは、Kerasレイヤーを定義し、Model.fit（）を呼び出すことによって作成されています。\n",
    "\n",
    "あなたが使用する必要があるような状況が発生する可能性がありtf.functionに注釈を「サイン」の高性能TensorFlowグラフに、すなわち、変換、Pythonの演算機能を。このような状況のために、あなたはTensorBoardで可視化のためのサイン入りの機能をログに記録するTensorFlow概要トレースAPIを使用します。\n",
    "\n",
    "サマリートレースAPIを使用するには：\n",
    "\n",
    "* で関数を定義し、注釈を付けるtf.function\n",
    "* 使用tf.summary.trace_on()すぐにあなたの関数の呼び出しサイトの前に。\n",
    "* 渡すことによって、グラフにプロファイル情報（メモリ、CPU時間）を追加profiler=True\n",
    "* 概要ファイルライター、呼び出しでtf.summary.trace_export()ログデータを保存します\n",
    "\n",
    "次に、TensorBoardを使用して、関数がどのように動作するかを確認できます。"
   ]
  },
  {
   "cell_type": "code",
   "execution_count": 11,
   "id": "5b64d405",
   "metadata": {},
   "outputs": [
    {
     "name": "stdout",
     "output_type": "stream",
     "text": [
      "WARNING:tensorflow:From /Users/kaoru/opt/anaconda3/envs/py37_Kaggle_GreatBarrierReef/lib/python3.7/site-packages/tensorflow/python/ops/summary_ops_v2.py:1311: start (from tensorflow.python.eager.profiler) is deprecated and will be removed after 2020-07-01.\n",
      "Instructions for updating:\n",
      "use `tf.profiler.experimental.start` instead.\n",
      "WARNING:tensorflow:From /Users/kaoru/opt/anaconda3/envs/py37_Kaggle_GreatBarrierReef/lib/python3.7/site-packages/tensorflow/python/ops/summary_ops_v2.py:1362: stop (from tensorflow.python.eager.profiler) is deprecated and will be removed after 2020-07-01.\n",
      "Instructions for updating:\n",
      "use `tf.profiler.experimental.stop` instead.\n",
      "WARNING:tensorflow:From /Users/kaoru/opt/anaconda3/envs/py37_Kaggle_GreatBarrierReef/lib/python3.7/site-packages/tensorflow/python/ops/summary_ops_v2.py:1362: save (from tensorflow.python.eager.profiler) is deprecated and will be removed after 2020-07-01.\n",
      "Instructions for updating:\n",
      "`tf.python.eager.profiler` has deprecated, use `tf.profiler` instead.\n",
      "WARNING:tensorflow:From /Users/kaoru/opt/anaconda3/envs/py37_Kaggle_GreatBarrierReef/lib/python3.7/site-packages/tensorflow/python/eager/profiler.py:151: maybe_create_event_file (from tensorflow.python.eager.profiler) is deprecated and will be removed after 2020-07-01.\n",
      "Instructions for updating:\n",
      "`tf.python.eager.profiler` has deprecated, use `tf.profiler` instead.\n"
     ]
    },
    {
     "name": "stderr",
     "output_type": "stream",
     "text": [
      "2021-12-30 16:31:56.831957: I tensorflow/core/profiler/lib/profiler_session.cc:110] Profiler session initializing.\n",
      "2021-12-30 16:31:56.831982: I tensorflow/core/profiler/lib/profiler_session.cc:125] Profiler session started.\n",
      "2021-12-30 16:31:56.942340: I tensorflow/core/profiler/lib/profiler_session.cc:67] Profiler session collecting data.\n",
      "2021-12-30 16:31:56.954635: I tensorflow/core/profiler/lib/profiler_session.cc:143] Profiler session tear down.\n"
     ]
    }
   ],
   "source": [
    "# The function to be traced.\n",
    "@tf.function\n",
    "def my_func(x, y):\n",
    "  # A simple hand-rolled layer.\n",
    "  return tf.nn.relu(tf.matmul(x, y))\n",
    "\n",
    "# Set up logging.\n",
    "stamp = datetime.now().strftime(\"%Y%m%d-%H%M%S\")\n",
    "logdir = 'logs/func/%s' % stamp\n",
    "writer = tf.summary.create_file_writer(logdir)\n",
    "\n",
    "# Sample data for your function.\n",
    "x = tf.random.uniform((3, 3))\n",
    "y = tf.random.uniform((3, 3))\n",
    "\n",
    "# Bracket the function call with\n",
    "# tf.summary.trace_on() and tf.summary.trace_export().\n",
    "tf.summary.trace_on(graph=True, profiler=True)\n",
    "# Call only one tf.function when tracing.\n",
    "z = my_func(x, y)\n",
    "with writer.as_default():\n",
    "  tf.summary.trace_export(\n",
    "      name=\"my_func_trace\",\n",
    "      step=0,\n",
    "      profiler_outdir=logdir)"
   ]
  },
  {
   "cell_type": "markdown",
   "id": "764aaed3",
   "metadata": {},
   "source": [
    "これで、TensorBoardが理解できる関数の構造を確認できます。 [プロファイル]ラジオボタンをクリックして、CPUとメモリの統計を表示します。"
   ]
  },
  {
   "cell_type": "code",
   "execution_count": null,
   "id": "19359e58",
   "metadata": {},
   "outputs": [],
   "source": []
  }
 ],
 "metadata": {
  "kernelspec": {
   "display_name": "Python 3 (ipykernel)",
   "language": "python",
   "name": "python3"
  },
  "language_info": {
   "codemirror_mode": {
    "name": "ipython",
    "version": 3
   },
   "file_extension": ".py",
   "mimetype": "text/x-python",
   "name": "python",
   "nbconvert_exporter": "python",
   "pygments_lexer": "ipython3",
   "version": "3.7.11"
  }
 },
 "nbformat": 4,
 "nbformat_minor": 5
}
